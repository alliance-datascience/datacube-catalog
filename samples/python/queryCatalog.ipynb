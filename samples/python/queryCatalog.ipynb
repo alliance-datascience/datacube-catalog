{
 "cells": [
  {
   "cell_type": "code",
   "execution_count": 3,
   "id": "3c260e5a-90b8-40ab-a555-edc30437e7ed",
   "metadata": {
    "tags": []
   },
   "outputs": [],
   "source": [
    "%%capture\n",
    "pip install pystac_client"
   ]
  },
  {
   "cell_type": "code",
   "execution_count": 4,
   "id": "ae464ba8-29da-41b5-b0d2-3bfe8c29485b",
   "metadata": {
    "tags": []
   },
   "outputs": [],
   "source": [
    "from pystac_client import Client,ItemSearch"
   ]
  },
  {
   "cell_type": "code",
   "execution_count": 5,
   "id": "a6c472bf-e6b7-4e06-86df-cc17d124c4e2",
   "metadata": {
    "tags": []
   },
   "outputs": [
    {
     "name": "stderr",
     "output_type": "stream",
     "text": [
      "c:\\Users\\cagonzalez\\Anaconda3\\envs\\zarrKernel\\lib\\site-packages\\pystac_client\\client.py:186: NoConformsTo: Server does not advertise any conformance classes.\n",
      "  warnings.warn(NoConformsTo())\n"
     ]
    }
   ],
   "source": [
    "catalog = Client.open('https://raw.githubusercontent.com/alliance-datascience/datacube-catalog/main/catalog/catalog.json')"
   ]
  },
  {
   "cell_type": "code",
   "execution_count": 6,
   "id": "4b71d052-9fe7-4aa9-88d2-f453479d6178",
   "metadata": {
    "tags": []
   },
   "outputs": [
    {
     "name": "stderr",
     "output_type": "stream",
     "text": [
      "c:\\Users\\cagonzalez\\Anaconda3\\envs\\zarrKernel\\lib\\site-packages\\pystac_client\\collection_client.py:148: FallbackToPystac: Falling back to pystac. This might be slow.\n",
      "  root._warn_about_fallback(\"ITEM_SEARCH\")\n"
     ]
    },
    {
     "name": "stdout",
     "output_type": "stream",
     "text": [
      "* <Client id=datacube-catalog>\n",
      "    * <CollectionClient id=chirps>\n",
      "      * <Item id=precipitation>\n",
      "  * <Item id=precipitation>\n"
     ]
    },
    {
     "name": "stderr",
     "output_type": "stream",
     "text": [
      "c:\\Users\\cagonzalez\\Anaconda3\\envs\\zarrKernel\\lib\\site-packages\\pystac_client\\client.py:458: FallbackToPystac: Falling back to pystac. This might be slow.\n",
      "  self._warn_about_fallback(\"ITEM_SEARCH\")\n"
     ]
    }
   ],
   "source": [
    "catalog.describe()"
   ]
  },
  {
   "cell_type": "code",
   "execution_count": 8,
   "id": "f1863165",
   "metadata": {},
   "outputs": [
    {
     "name": "stderr",
     "output_type": "stream",
     "text": [
      "c:\\Users\\cagonzalez\\Anaconda3\\envs\\zarrKernel\\lib\\site-packages\\pystac_client\\client.py:405: FallbackToPystac: Falling back to pystac. This might be slow.\n",
      "  self._warn_about_fallback(\"COLLECTIONS\", \"FEATURES\")\n"
     ]
    }
   ],
   "source": [
    "chirps = catalog.get_collection('chirps')"
   ]
  },
  {
   "cell_type": "code",
   "execution_count": 9,
   "id": "1465fb54-abca-4b0e-a6ba-d482e87d06fa",
   "metadata": {
    "tags": []
   },
   "outputs": [
    {
     "name": "stderr",
     "output_type": "stream",
     "text": [
      "c:\\Users\\cagonzalez\\Anaconda3\\envs\\zarrKernel\\lib\\site-packages\\pystac_client\\collection_client.py:196: FallbackToPystac: Falling back to pystac. This might be slow.\n",
      "  root._warn_about_fallback(\"FEATURES\", \"ITEM_SEARCH\")\n",
      "c:\\Users\\cagonzalez\\Anaconda3\\envs\\zarrKernel\\lib\\site-packages\\pystac_client\\collection_client.py:148: FallbackToPystac: Falling back to pystac. This might be slow.\n",
      "  root._warn_about_fallback(\"ITEM_SEARCH\")\n"
     ]
    }
   ],
   "source": [
    "item=chirps.get_item('precipitation')"
   ]
  },
  {
   "cell_type": "code",
   "execution_count": 10,
   "id": "f71e824c-572c-44df-ac19-2d5e26dd90e6",
   "metadata": {
    "tags": []
   },
   "outputs": [
    {
     "data": {
      "text/plain": [
       "{'chips-zarr': {'href': 's3://climate-action-datalake/zone=raw/source=chirps/variable=precipitation.zarr/',\n",
       "  'type': 'application/vnd+zarr',\n",
       "  'title': 'Data cube chirps',\n",
       "  'description': 'Historical chirps global data transformed into cloud native format Zarr',\n",
       "  'authentication_enabled': 'yes',\n",
       "  'source': 'https://data.chc.ucsb.edu/products/CHIRPS-2.0/global_daily/tifs/p05',\n",
       "  'update_frecuency': 'Monthy',\n",
       "  'resolution': '0.05 x 0.05',\n",
       "  'dimensions': [{'lat': 'latitud', 'description': 'latitud of the data'},\n",
       "   {'lon': 'longitud', 'description': 'longitud of the data'},\n",
       "   {'time': 'date',\n",
       "    'description': 'The date of the registry at daily level',\n",
       "    'format': 'yyyy-mm-dd'}],\n",
       "  'variables': [{'precipitation': 'precipitation',\n",
       "    'description': 'Precipitation of the geo point per date',\n",
       "    'units': 'mm'}],\n",
       "  'transformations': 'From geotiff to zarr'}}"
      ]
     },
     "execution_count": 10,
     "metadata": {},
     "output_type": "execute_result"
    }
   ],
   "source": [
    "item.to_dict()['assets']"
   ]
  }
 ],
 "metadata": {
  "kernelspec": {
   "display_name": "zarrKernel",
   "language": "python",
   "name": "python3"
  },
  "language_info": {
   "codemirror_mode": {
    "name": "ipython",
    "version": 3
   },
   "file_extension": ".py",
   "mimetype": "text/x-python",
   "name": "python",
   "nbconvert_exporter": "python",
   "pygments_lexer": "ipython3",
   "version": "3.9.18"
  }
 },
 "nbformat": 4,
 "nbformat_minor": 5
}
