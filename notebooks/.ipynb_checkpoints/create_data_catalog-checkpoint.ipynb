{
 "cells": [
  {
   "cell_type": "code",
   "execution_count": 5,
   "id": "ed4051e6-379c-46f8-a07b-d47d9971af17",
   "metadata": {
    "tags": []
   },
   "outputs": [],
   "source": [
    "%%capture\n",
    "!pip install intake xarray[complete] pystac"
   ]
  },
  {
   "cell_type": "code",
   "execution_count": 1,
   "id": "77fd6c8b-3430-4ff6-868d-f01e08bef01a",
   "metadata": {
    "tags": []
   },
   "outputs": [],
   "source": [
    "import pandas as pd\n",
    "import intake\n",
    "import xarray  as xr\n",
    "import pystac\n",
    "import json\n",
    "from datetime import datetime,timezone"
   ]
  },
  {
   "cell_type": "code",
   "execution_count": 2,
   "id": "9e924652-29fb-49d8-86e7-f5abb7c45115",
   "metadata": {
    "tags": []
   },
   "outputs": [],
   "source": [
    "chirpsS3 = \"s3://climate-action-datalake/zone=raw/source=chirps/variable=precipitation.zarr/\"\n",
    "datetime_utc = datetime.now(tz=timezone.utc)\n"
   ]
  },
  {
   "cell_type": "code",
   "execution_count": 3,
   "id": "7b4721a8-7ca7-4981-b0d7-2aac75853044",
   "metadata": {
    "tags": []
   },
   "outputs": [],
   "source": [
    "catalog = pystac.Catalog(id='datacube-catalog', description='Datacube catalog stored in S3')"
   ]
  },
  {
   "cell_type": "code",
   "execution_count": 4,
   "id": "e1dc2acf-3cf2-437d-9a3e-2f96782a3c7d",
   "metadata": {
    "tags": []
   },
   "outputs": [
    {
     "name": "stdout",
     "output_type": "stream",
     "text": [
      "[]\n",
      "[]\n"
     ]
    }
   ],
   "source": [
    "print(list(catalog.get_all_items()))\n",
    "print(list(catalog.get_children()))"
   ]
  },
  {
   "cell_type": "code",
   "execution_count": 4,
   "id": "3fe1ac7a-e133-4751-bdea-874dffc6d448",
   "metadata": {
    "tags": []
   },
   "outputs": [],
   "source": [
    "dataset_item = pystac.Item(\n",
    "    id=\"chirps\",\n",
    "    geometry= None,\n",
    "    bbox=None,\n",
    "    datetime =datetime_utc,\n",
    "    properties={\n",
    "        \"zarr_store\": chirpsS3  # Reference the Zarr store location\n",
    "    }\n",
    ")"
   ]
  },
  {
   "cell_type": "code",
   "execution_count": 5,
   "id": "ec82dfe8-d40b-4938-be21-9bac970f1d79",
   "metadata": {
    "tags": []
   },
   "outputs": [
    {
     "data": {
      "text/html": [
       "\n",
       "\n",
       "<style>\n",
       ".pystac-summary {\n",
       "    cursor: pointer;\n",
       "    display:list-item;\n",
       "}\n",
       ".pystac-key {\n",
       "    color: rgb(0, 128, 0);\n",
       "    font-weight: 700;\n",
       "}\n",
       ".pystac-key-value {\n",
       "    display: inline-block;\n",
       "    margin: 0px 0.5em 0px 0px;\n",
       "}\n",
       "</style>\n",
       "<div class=\"jp-RenderedJSON jp-mod-trusted jp-OutputArea-output\">\n",
       "    <div class=\"container\" style=\"line-height: normal;\">\n",
       "        <ul style=\"padding: 0px; margin: 0px; list-style: none; display: block;\">\n",
       "            \n",
       "                \n",
       "                    \n",
       "        <li style=\"overflow-wrap: break-word; padding-left: 2.125em; text-indent: -0.5em;\">\n",
       "            <span class=\"pystac-key pystac-key-value\">rel</span>\n",
       "            <span style=\"color: rgb(186, 33, 33);\">\"item\"</span>\n",
       "        </li>\n",
       "    \n",
       "                \n",
       "            \n",
       "                \n",
       "                    \n",
       "        <li style=\"overflow-wrap: break-word; padding-left: 2.125em; text-indent: -0.5em;\">\n",
       "            <span class=\"pystac-key pystac-key-value\">href</span>\n",
       "            <span style=\"color: rgb(186, 33, 33);\">None</span>\n",
       "        </li>\n",
       "    \n",
       "                \n",
       "            \n",
       "                \n",
       "                    \n",
       "        <li style=\"overflow-wrap: break-word; padding-left: 2.125em; text-indent: -0.5em;\">\n",
       "            <span class=\"pystac-key pystac-key-value\">type</span>\n",
       "            <span style=\"color: rgb(186, 33, 33);\">\"application/json\"</span>\n",
       "        </li>\n",
       "    \n",
       "                \n",
       "            \n",
       "        </ul>\n",
       "    </div>\n",
       "</div>"
      ],
      "text/plain": [
       "<Link rel=item target=<Item id=chirps>>"
      ]
     },
     "execution_count": 5,
     "metadata": {},
     "output_type": "execute_result"
    }
   ],
   "source": [
    "catalog.add_item(dataset_item)"
   ]
  },
  {
   "cell_type": "code",
   "execution_count": 6,
   "id": "720554dd-6ae0-407a-b808-150f9431f314",
   "metadata": {
    "tags": []
   },
   "outputs": [
    {
     "data": {
      "text/html": [
       "\n",
       "\n",
       "<style>\n",
       ".pystac-summary {\n",
       "    cursor: pointer;\n",
       "    display:list-item;\n",
       "}\n",
       ".pystac-key {\n",
       "    color: rgb(0, 128, 0);\n",
       "    font-weight: 700;\n",
       "}\n",
       ".pystac-key-value {\n",
       "    display: inline-block;\n",
       "    margin: 0px 0.5em 0px 0px;\n",
       "}\n",
       "</style>\n",
       "<div class=\"jp-RenderedJSON jp-mod-trusted jp-OutputArea-output\">\n",
       "    <div class=\"container\" style=\"line-height: normal;\">\n",
       "        <ul style=\"padding: 0px; margin: 0px; list-style: none; display: block;\">\n",
       "            \n",
       "                \n",
       "                    \n",
       "        <li style=\"overflow-wrap: break-word; padding-left: 2.125em; text-indent: -0.5em;\">\n",
       "            <span class=\"pystac-key pystac-key-value\">type</span>\n",
       "            <span style=\"color: rgb(186, 33, 33);\">\"Catalog\"</span>\n",
       "        </li>\n",
       "    \n",
       "                \n",
       "            \n",
       "                \n",
       "                    \n",
       "        <li style=\"overflow-wrap: break-word; padding-left: 2.125em; text-indent: -0.5em;\">\n",
       "            <span class=\"pystac-key pystac-key-value\">id</span>\n",
       "            <span style=\"color: rgb(186, 33, 33);\">\"datacube-catalog\"</span>\n",
       "        </li>\n",
       "    \n",
       "                \n",
       "            \n",
       "                \n",
       "                    \n",
       "        <li style=\"overflow-wrap: break-word; padding-left: 2.125em; text-indent: -0.5em;\">\n",
       "            <span class=\"pystac-key pystac-key-value\">stac_version</span>\n",
       "            <span style=\"color: rgb(186, 33, 33);\">\"1.0.0\"</span>\n",
       "        </li>\n",
       "    \n",
       "                \n",
       "            \n",
       "                \n",
       "                    \n",
       "        <li style=\"overflow-wrap: break-word; padding-left: 2.125em; text-indent: -0.5em;\">\n",
       "            <span class=\"pystac-key pystac-key-value\">description</span>\n",
       "            <span style=\"color: rgb(186, 33, 33);\">\"Datacube catalog stored in S3\"</span>\n",
       "        </li>\n",
       "    \n",
       "                \n",
       "            \n",
       "                \n",
       "                    <li><details>\n",
       "        <summary class=\"pystac-summary\">\n",
       "            <span class=\"pystac-key\">links</span>\n",
       "            <span style=\"padding-left: 0.5em; color: rgb(64, 128, 128); font-style: italic;\">[] 1 items</span>\n",
       "        </summary>\n",
       "        \n",
       "            <ul style=\"margin: 0px; padding: 0px 0px 0px 1.75em; list-style: none; display: block;\">\n",
       "        \n",
       "            \n",
       "                \n",
       "        <li><details>\n",
       "            <summary class=\"pystac-summary\"><span class=\"pystac-key\">0</span></summary>\n",
       "            <ul style=\"margin: 0px; padding: 0px 0px 0px 1.75em; list-style: none; display: block;\">\n",
       "        \n",
       "            \n",
       "                \n",
       "        <li style=\"overflow-wrap: break-word; padding-left: 2.125em; text-indent: -0.5em;\">\n",
       "            <span class=\"pystac-key pystac-key-value\">rel</span>\n",
       "            <span style=\"color: rgb(186, 33, 33);\">\"item\"</span>\n",
       "        </li>\n",
       "    \n",
       "            \n",
       "        \n",
       "            \n",
       "                \n",
       "        <li style=\"overflow-wrap: break-word; padding-left: 2.125em; text-indent: -0.5em;\">\n",
       "            <span class=\"pystac-key pystac-key-value\">href</span>\n",
       "            <span style=\"color: rgb(186, 33, 33);\">None</span>\n",
       "        </li>\n",
       "    \n",
       "            \n",
       "        \n",
       "            \n",
       "                \n",
       "        <li style=\"overflow-wrap: break-word; padding-left: 2.125em; text-indent: -0.5em;\">\n",
       "            <span class=\"pystac-key pystac-key-value\">type</span>\n",
       "            <span style=\"color: rgb(186, 33, 33);\">\"application/json\"</span>\n",
       "        </li>\n",
       "    \n",
       "            \n",
       "        \n",
       "    </ul>\n",
       "        </details></li>\n",
       "    \n",
       "            \n",
       "        \n",
       "    </ul>\n",
       "        \n",
       "    </details></li>\n",
       "                \n",
       "            \n",
       "        </ul>\n",
       "    </div>\n",
       "</div>"
      ],
      "text/plain": [
       "<Catalog id=datacube-catalog>"
      ]
     },
     "execution_count": 6,
     "metadata": {},
     "output_type": "execute_result"
    }
   ],
   "source": [
    "dataset_item.get_parent()"
   ]
  },
  {
   "cell_type": "code",
   "execution_count": 7,
   "id": "aafb31f4-f498-4548-9fb8-135de93d8e83",
   "metadata": {
    "tags": []
   },
   "outputs": [
    {
     "name": "stdout",
     "output_type": "stream",
     "text": [
      "* <Catalog id=datacube-catalog>\n",
      "  * <Item id=chirps>\n"
     ]
    }
   ],
   "source": [
    "catalog.describe()"
   ]
  },
  {
   "cell_type": "code",
   "execution_count": 8,
   "id": "4fe6adee-f766-49c1-9071-b98013014d96",
   "metadata": {
    "tags": []
   },
   "outputs": [],
   "source": [
    "dataset_item.add_asset(\n",
    "    key='chips-zarr',\n",
    "    asset=pystac.Asset(\n",
    "        title = \"Data cube chirps\",\n",
    "        description = \"Historical chirps transformed into cloud native format Zarr\",\n",
    "        href=chirpsS3,\n",
    "        media_type=pystac.MediaType.ZARR \n",
    "    )\n",
    ")\n",
    "    "
   ]
  },
  {
   "cell_type": "code",
   "execution_count": 9,
   "id": "3ac385dc-f812-47ac-9cda-72f2867cf303",
   "metadata": {
    "tags": []
   },
   "outputs": [
    {
     "name": "stdout",
     "output_type": "stream",
     "text": [
      "{\n",
      "    \"type\": \"Feature\",\n",
      "    \"stac_version\": \"1.0.0\",\n",
      "    \"id\": \"chirps\",\n",
      "    \"properties\": {\n",
      "        \"zarr_store\": \"s3://climate-action-datalake/zone=raw/source=chirps/variable=precipitation.zarr/\",\n",
      "        \"datetime\": \"2024-03-14T21:16:16.142340Z\"\n",
      "    },\n",
      "    \"geometry\": null,\n",
      "    \"links\": [\n",
      "        {\n",
      "            \"rel\": \"root\",\n",
      "            \"href\": null,\n",
      "            \"type\": \"application/json\"\n",
      "        },\n",
      "        {\n",
      "            \"rel\": \"parent\",\n",
      "            \"href\": null,\n",
      "            \"type\": \"application/json\"\n",
      "        }\n",
      "    ],\n",
      "    \"assets\": {\n",
      "        \"chips-zarr\": {\n",
      "            \"href\": \"s3://climate-action-datalake/zone=raw/source=chirps/variable=precipitation.zarr/\",\n",
      "            \"type\": \"application/vnd+zarr\",\n",
      "            \"title\": \"Data cube chirps\",\n",
      "            \"description\": \"Historical chirps transformed into cloud native format Zarr\"\n",
      "        }\n",
      "    },\n",
      "    \"stac_extensions\": []\n",
      "}\n"
     ]
    }
   ],
   "source": [
    "print(json.dumps(dataset_item.to_dict(), indent=4))"
   ]
  },
  {
   "cell_type": "code",
   "execution_count": 13,
   "id": "ea41dcd0-6aef-4937-8efe-84af4f28e24e",
   "metadata": {
    "tags": []
   },
   "outputs": [],
   "source": [
    "catalog.normalize_hrefs('../catalog')"
   ]
  },
  {
   "cell_type": "code",
   "execution_count": 14,
   "id": "c1dda861-ab10-4ee8-be44-3b5e7898afcd",
   "metadata": {
    "tags": []
   },
   "outputs": [],
   "source": [
    "catalog.save(catalog_type=pystac.CatalogType.SELF_CONTAINED)"
   ]
  },
  {
   "cell_type": "code",
   "execution_count": 24,
   "id": "9eccd506-b5ca-42e9-b7e2-a54f56a772d8",
   "metadata": {
    "tags": []
   },
   "outputs": [
    {
     "name": "stdout",
     "output_type": "stream",
     "text": [
      "Help on class MediaType in module pystac.media_type:\n",
      "\n",
      "class MediaType(pystac.utils.StringEnum)\n",
      " |  MediaType(value, names=None, *, module=None, qualname=None, type=None, start=1)\n",
      " |  \n",
      " |  A list of common media types that can be used in STAC Asset and Link metadata.\n",
      " |  \n",
      " |  Method resolution order:\n",
      " |      MediaType\n",
      " |      pystac.utils.StringEnum\n",
      " |      builtins.str\n",
      " |      enum.Enum\n",
      " |      builtins.object\n",
      " |  \n",
      " |  Data and other attributes defined here:\n",
      " |  \n",
      " |  COG = image/tiff; application=geotiff; profile=cloud-optimized\n",
      " |  \n",
      " |  FLATGEOBUF = application/vnd.flatgeobuf\n",
      " |  \n",
      " |  GEOJSON = application/geo+json\n",
      " |  \n",
      " |  GEOPACKAGE = application/geopackage+sqlite3\n",
      " |  \n",
      " |  GEOTIFF = image/tiff; application=geotiff\n",
      " |  \n",
      " |  HDF = application/x-hdf\n",
      " |  \n",
      " |  HDF5 = application/x-hdf5\n",
      " |  \n",
      " |  HTML = text/html\n",
      " |  \n",
      " |  JPEG = image/jpeg\n",
      " |  \n",
      " |  JPEG2000 = image/jp2\n",
      " |  \n",
      " |  JSON = application/json\n",
      " |  \n",
      " |  KML = application/vnd.google-earth.kml+xml\n",
      " |  \n",
      " |  PDF = application/pdf\n",
      " |  \n",
      " |  PNG = image/png\n",
      " |  \n",
      " |  TEXT = text/plain\n",
      " |  \n",
      " |  TIFF = image/tiff\n",
      " |  \n",
      " |  XML = application/xml\n",
      " |  \n",
      " |  ----------------------------------------------------------------------\n",
      " |  Data descriptors inherited from enum.Enum:\n",
      " |  \n",
      " |  name\n",
      " |      The name of the Enum member.\n",
      " |  \n",
      " |  value\n",
      " |      The value of the Enum member.\n",
      " |  \n",
      " |  ----------------------------------------------------------------------\n",
      " |  Readonly properties inherited from enum.EnumMeta:\n",
      " |  \n",
      " |  __members__\n",
      " |      Returns a mapping of member name->value.\n",
      " |      \n",
      " |      This mapping lists all enum members, including aliases. Note that this\n",
      " |      is a read-only view of the internal mapping.\n",
      "\n"
     ]
    }
   ],
   "source": [
    "help(pystac.MediaType)"
   ]
  },
  {
   "cell_type": "code",
   "execution_count": 6,
   "id": "32f1f20e-56c3-457d-b7e5-4b8e238527e7",
   "metadata": {
    "tags": []
   },
   "outputs": [
    {
     "name": "stderr",
     "output_type": "stream",
     "text": [
      "/home/ec2-user/anaconda3/envs/pytorch_p310/lib/python3.10/site-packages/fsspec/registry.py:273: UserWarning: Your installed version of s3fs is very old and known to cause\n",
      "severe performance issues, see also https://github.com/dask/dask/issues/10276\n",
      "\n",
      "To fix, you should specify a lower version bound on s3fs, or\n",
      "update the current installation.\n",
      "\n",
      "  warnings.warn(s3_msg)\n"
     ]
    }
   ],
   "source": [
    "chirps = xr.open_zarr(chirpsS3)"
   ]
  },
  {
   "cell_type": "code",
   "execution_count": 7,
   "id": "e5b91ad6-d2a8-4cdd-ac32-f224f20fef26",
   "metadata": {
    "tags": []
   },
   "outputs": [
    {
     "ename": "AttributeError",
     "evalue": "'Dataset' object has no attribute 'bounds'",
     "output_type": "error",
     "traceback": [
      "\u001b[0;31m---------------------------------------------------------------------------\u001b[0m",
      "\u001b[0;31mAttributeError\u001b[0m                            Traceback (most recent call last)",
      "Cell \u001b[0;32mIn[7], line 1\u001b[0m\n\u001b[0;32m----> 1\u001b[0m \u001b[43mchirps\u001b[49m\u001b[38;5;241;43m.\u001b[39;49m\u001b[43mbounds\u001b[49m\n",
      "File \u001b[0;32m~/anaconda3/envs/pytorch_p310/lib/python3.10/site-packages/xarray/core/common.py:286\u001b[0m, in \u001b[0;36mAttrAccessMixin.__getattr__\u001b[0;34m(self, name)\u001b[0m\n\u001b[1;32m    284\u001b[0m         \u001b[38;5;28;01mwith\u001b[39;00m suppress(\u001b[38;5;167;01mKeyError\u001b[39;00m):\n\u001b[1;32m    285\u001b[0m             \u001b[38;5;28;01mreturn\u001b[39;00m source[name]\n\u001b[0;32m--> 286\u001b[0m \u001b[38;5;28;01mraise\u001b[39;00m \u001b[38;5;167;01mAttributeError\u001b[39;00m(\n\u001b[1;32m    287\u001b[0m     \u001b[38;5;124mf\u001b[39m\u001b[38;5;124m\"\u001b[39m\u001b[38;5;132;01m{\u001b[39;00m\u001b[38;5;28mtype\u001b[39m(\u001b[38;5;28mself\u001b[39m)\u001b[38;5;241m.\u001b[39m\u001b[38;5;18m__name__\u001b[39m\u001b[38;5;132;01m!r}\u001b[39;00m\u001b[38;5;124m object has no attribute \u001b[39m\u001b[38;5;132;01m{\u001b[39;00mname\u001b[38;5;132;01m!r}\u001b[39;00m\u001b[38;5;124m\"\u001b[39m\n\u001b[1;32m    288\u001b[0m )\n",
      "\u001b[0;31mAttributeError\u001b[0m: 'Dataset' object has no attribute 'bounds'"
     ]
    }
   ],
   "source": [
    "chirps.bounds"
   ]
  }
 ],
 "metadata": {
  "kernelspec": {
   "display_name": "conda_pytorch_p310",
   "language": "python",
   "name": "conda_pytorch_p310"
  },
  "language_info": {
   "codemirror_mode": {
    "name": "ipython",
    "version": 3
   },
   "file_extension": ".py",
   "mimetype": "text/x-python",
   "name": "python",
   "nbconvert_exporter": "python",
   "pygments_lexer": "ipython3",
   "version": "3.10.13"
  }
 },
 "nbformat": 4,
 "nbformat_minor": 5
}
